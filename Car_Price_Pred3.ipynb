{
 "cells": [
  {
   "cell_type": "code",
   "execution_count": 26,
   "metadata": {
    "collapsed": true
   },
   "outputs": [],
   "source": [
    "# Applying K-Nearest Neighbors: Predicting Car Prices\n",
    "import numpy as np\n",
    "from sklearn.model_selection import cross_val_score, KFold\n",
    "from sklearn.neighbors import KNeighborsRegressor\n",
    "from sklearn.metrics import mean_squared_error\n",
    "from sklearn.model_selection import KFold, cross_val_score\n",
    "from collections import defaultdict\n",
    "import matplotlib.pyplot as plt\n",
    "%matplotlib inline"
   ]
  },
  {
   "cell_type": "code",
   "execution_count": null,
   "metadata": {
    "collapsed": true
   },
   "outputs": [],
   "source": [
    "cars = pd.read_csv('Automobiles-Data1.csv')\n",
    "cars.head(5)\n",
    "test_cars = pd.read_csv('Automobiles-Testing1.csv')\n",
    "test_cars.head(5)\n",
    "# As you can see the data is a little messy. "
   ]
  },
  {
   "cell_type": "code",
   "execution_count": 3,
   "metadata": {},
   "outputs": [
    {
     "data": {
      "text/html": [
       "<div>\n",
       "<style>\n",
       "    .dataframe thead tr:only-child th {\n",
       "        text-align: right;\n",
       "    }\n",
       "\n",
       "    .dataframe thead th {\n",
       "        text-align: left;\n",
       "    }\n",
       "\n",
       "    .dataframe tbody tr th {\n",
       "        vertical-align: top;\n",
       "    }\n",
       "</style>\n",
       "<table border=\"1\" class=\"dataframe\">\n",
       "  <thead>\n",
       "    <tr style=\"text-align: right;\">\n",
       "      <th></th>\n",
       "      <th>normalized-losses</th>\n",
       "      <th>wheel-base</th>\n",
       "      <th>length</th>\n",
       "      <th>width</th>\n",
       "      <th>height</th>\n",
       "      <th>curb-weight</th>\n",
       "      <th>bore</th>\n",
       "      <th>stroke</th>\n",
       "      <th>compression-ratio</th>\n",
       "      <th>horsepower</th>\n",
       "      <th>peak-rpm</th>\n",
       "      <th>city-mpg</th>\n",
       "      <th>highway-mpg</th>\n",
       "    </tr>\n",
       "  </thead>\n",
       "  <tbody>\n",
       "    <tr>\n",
       "      <th>0</th>\n",
       "      <td>103</td>\n",
       "      <td>104.3</td>\n",
       "      <td>188.8</td>\n",
       "      <td>67.2</td>\n",
       "      <td>56.2</td>\n",
       "      <td>2912</td>\n",
       "      <td>3.78</td>\n",
       "      <td>3.15</td>\n",
       "      <td>9.5</td>\n",
       "      <td>114</td>\n",
       "      <td>5400</td>\n",
       "      <td>23</td>\n",
       "      <td>28</td>\n",
       "    </tr>\n",
       "    <tr>\n",
       "      <th>1</th>\n",
       "      <td>74</td>\n",
       "      <td>104.3</td>\n",
       "      <td>188.8</td>\n",
       "      <td>67.2</td>\n",
       "      <td>57.5</td>\n",
       "      <td>3034</td>\n",
       "      <td>3.78</td>\n",
       "      <td>3.15</td>\n",
       "      <td>9.5</td>\n",
       "      <td>114</td>\n",
       "      <td>5400</td>\n",
       "      <td>23</td>\n",
       "      <td>28</td>\n",
       "    </tr>\n",
       "    <tr>\n",
       "      <th>2</th>\n",
       "      <td>95</td>\n",
       "      <td>109.1</td>\n",
       "      <td>188.8</td>\n",
       "      <td>68.9</td>\n",
       "      <td>55.5</td>\n",
       "      <td>2952</td>\n",
       "      <td>3.78</td>\n",
       "      <td>3.15</td>\n",
       "      <td>9.5</td>\n",
       "      <td>114</td>\n",
       "      <td>5400</td>\n",
       "      <td>23</td>\n",
       "      <td>28</td>\n",
       "    </tr>\n",
       "    <tr>\n",
       "      <th>3</th>\n",
       "      <td>95</td>\n",
       "      <td>109.1</td>\n",
       "      <td>188.8</td>\n",
       "      <td>68.8</td>\n",
       "      <td>55.5</td>\n",
       "      <td>3049</td>\n",
       "      <td>3.78</td>\n",
       "      <td>3.15</td>\n",
       "      <td>8.7</td>\n",
       "      <td>160</td>\n",
       "      <td>5300</td>\n",
       "      <td>19</td>\n",
       "      <td>25</td>\n",
       "    </tr>\n",
       "    <tr>\n",
       "      <th>4</th>\n",
       "      <td>95</td>\n",
       "      <td>109.1</td>\n",
       "      <td>188.8</td>\n",
       "      <td>68.9</td>\n",
       "      <td>55.5</td>\n",
       "      <td>3217</td>\n",
       "      <td>3.01</td>\n",
       "      <td>3.40</td>\n",
       "      <td>23.0</td>\n",
       "      <td>106</td>\n",
       "      <td>4800</td>\n",
       "      <td>26</td>\n",
       "      <td>27</td>\n",
       "    </tr>\n",
       "  </tbody>\n",
       "</table>\n",
       "</div>"
      ],
      "text/plain": [
       "  normalized-losses  wheel-base  length  width  height  curb-weight  bore  \\\n",
       "0               103       104.3   188.8   67.2    56.2         2912  3.78   \n",
       "1                74       104.3   188.8   67.2    57.5         3034  3.78   \n",
       "2                95       109.1   188.8   68.9    55.5         2952  3.78   \n",
       "3                95       109.1   188.8   68.8    55.5         3049  3.78   \n",
       "4                95       109.1   188.8   68.9    55.5         3217  3.01   \n",
       "\n",
       "   stroke  compression-ratio  horsepower  peak-rpm  city-mpg  highway-mpg  \n",
       "0    3.15                9.5         114      5400        23           28  \n",
       "1    3.15                9.5         114      5400        23           28  \n",
       "2    3.15                9.5         114      5400        23           28  \n",
       "3    3.15                8.7         160      5300        19           25  \n",
       "4    3.40               23.0         106      4800        26           27  "
      ]
     },
     "execution_count": 3,
     "metadata": {},
     "output_type": "execute_result"
    }
   ],
   "source": [
    "ordinal_values_cols = ['normalized-losses', 'wheel-base', 'length', 'width', 'height', 'curb-weight', 'bore', 'stroke', 'compression-ratio', 'horsepower', 'peak-rpm', 'city-mpg', 'highway-mpg', 'price']\n",
    "test_ordinal_values_cols = ['normalized-losses', 'wheel-base', 'length', 'width', 'height', 'curb-weight', 'bore', 'stroke', 'compression-ratio', 'horsepower', 'peak-rpm', 'city-mpg', 'highway-mpg']\n",
    "car_features = cars[ordinal_values_cols]\n",
    "test_car_features = test_cars[test_ordinal_values_cols]\n",
    "test_car_features.head(5)\n",
    "#When training a predictive model, it is important to not have any missing values. Based on the data set preview from the last step, I can tell that the normalized-losses column contains missing values represented using \"?\". \n",
    "#Let's replace these values and look for the presence of missing values in other numeric columns. Let's also normalize the values in all numeric columns so they have a value between zero and one. That way very large values will not have a greater influence, and everything will be relative."
   ]
  },
  {
   "cell_type": "code",
   "execution_count": 4,
   "metadata": {},
   "outputs": [
    {
     "name": "stderr",
     "output_type": "stream",
     "text": [
      "C:\\ProgramData\\Anaconda3\\lib\\site-packages\\ipykernel_launcher.py:2: SettingWithCopyWarning: \n",
      "A value is trying to be set on a copy of a slice from a DataFrame\n",
      "\n",
      "See the caveats in the documentation: http://pandas.pydata.org/pandas-docs/stable/indexing.html#indexing-view-versus-copy\n",
      "  \n",
      "C:\\ProgramData\\Anaconda3\\lib\\site-packages\\ipykernel_launcher.py:3: SettingWithCopyWarning: \n",
      "A value is trying to be set on a copy of a slice from a DataFrame\n",
      "\n",
      "See the caveats in the documentation: http://pandas.pydata.org/pandas-docs/stable/indexing.html#indexing-view-versus-copy\n",
      "  This is separate from the ipykernel package so we can avoid doing imports until\n"
     ]
    },
    {
     "data": {
      "text/html": [
       "<div>\n",
       "<style>\n",
       "    .dataframe thead tr:only-child th {\n",
       "        text-align: right;\n",
       "    }\n",
       "\n",
       "    .dataframe thead th {\n",
       "        text-align: left;\n",
       "    }\n",
       "\n",
       "    .dataframe tbody tr th {\n",
       "        vertical-align: top;\n",
       "    }\n",
       "</style>\n",
       "<table border=\"1\" class=\"dataframe\">\n",
       "  <thead>\n",
       "    <tr style=\"text-align: right;\">\n",
       "      <th></th>\n",
       "      <th>normalized-losses</th>\n",
       "      <th>wheel-base</th>\n",
       "      <th>length</th>\n",
       "      <th>width</th>\n",
       "      <th>height</th>\n",
       "      <th>curb-weight</th>\n",
       "      <th>bore</th>\n",
       "      <th>stroke</th>\n",
       "      <th>compression-ratio</th>\n",
       "      <th>horsepower</th>\n",
       "      <th>peak-rpm</th>\n",
       "      <th>city-mpg</th>\n",
       "      <th>highway-mpg</th>\n",
       "    </tr>\n",
       "  </thead>\n",
       "  <tbody>\n",
       "    <tr>\n",
       "      <th>0</th>\n",
       "      <td>103.0</td>\n",
       "      <td>104.3</td>\n",
       "      <td>188.8</td>\n",
       "      <td>67.2</td>\n",
       "      <td>56.2</td>\n",
       "      <td>2912.0</td>\n",
       "      <td>3.78</td>\n",
       "      <td>3.15</td>\n",
       "      <td>9.5</td>\n",
       "      <td>114.0</td>\n",
       "      <td>5400.0</td>\n",
       "      <td>23.0</td>\n",
       "      <td>28.0</td>\n",
       "    </tr>\n",
       "    <tr>\n",
       "      <th>1</th>\n",
       "      <td>74.0</td>\n",
       "      <td>104.3</td>\n",
       "      <td>188.8</td>\n",
       "      <td>67.2</td>\n",
       "      <td>57.5</td>\n",
       "      <td>3034.0</td>\n",
       "      <td>3.78</td>\n",
       "      <td>3.15</td>\n",
       "      <td>9.5</td>\n",
       "      <td>114.0</td>\n",
       "      <td>5400.0</td>\n",
       "      <td>23.0</td>\n",
       "      <td>28.0</td>\n",
       "    </tr>\n",
       "    <tr>\n",
       "      <th>2</th>\n",
       "      <td>95.0</td>\n",
       "      <td>109.1</td>\n",
       "      <td>188.8</td>\n",
       "      <td>68.9</td>\n",
       "      <td>55.5</td>\n",
       "      <td>2952.0</td>\n",
       "      <td>3.78</td>\n",
       "      <td>3.15</td>\n",
       "      <td>9.5</td>\n",
       "      <td>114.0</td>\n",
       "      <td>5400.0</td>\n",
       "      <td>23.0</td>\n",
       "      <td>28.0</td>\n",
       "    </tr>\n",
       "    <tr>\n",
       "      <th>3</th>\n",
       "      <td>95.0</td>\n",
       "      <td>109.1</td>\n",
       "      <td>188.8</td>\n",
       "      <td>68.8</td>\n",
       "      <td>55.5</td>\n",
       "      <td>3049.0</td>\n",
       "      <td>3.78</td>\n",
       "      <td>3.15</td>\n",
       "      <td>8.7</td>\n",
       "      <td>160.0</td>\n",
       "      <td>5300.0</td>\n",
       "      <td>19.0</td>\n",
       "      <td>25.0</td>\n",
       "    </tr>\n",
       "    <tr>\n",
       "      <th>4</th>\n",
       "      <td>95.0</td>\n",
       "      <td>109.1</td>\n",
       "      <td>188.8</td>\n",
       "      <td>68.9</td>\n",
       "      <td>55.5</td>\n",
       "      <td>3217.0</td>\n",
       "      <td>3.01</td>\n",
       "      <td>3.40</td>\n",
       "      <td>23.0</td>\n",
       "      <td>106.0</td>\n",
       "      <td>4800.0</td>\n",
       "      <td>26.0</td>\n",
       "      <td>27.0</td>\n",
       "    </tr>\n",
       "  </tbody>\n",
       "</table>\n",
       "</div>"
      ],
      "text/plain": [
       "   normalized-losses  wheel-base  length  width  height  curb-weight  bore  \\\n",
       "0              103.0       104.3   188.8   67.2    56.2       2912.0  3.78   \n",
       "1               74.0       104.3   188.8   67.2    57.5       3034.0  3.78   \n",
       "2               95.0       109.1   188.8   68.9    55.5       2952.0  3.78   \n",
       "3               95.0       109.1   188.8   68.8    55.5       3049.0  3.78   \n",
       "4               95.0       109.1   188.8   68.9    55.5       3217.0  3.01   \n",
       "\n",
       "   stroke  compression-ratio  horsepower  peak-rpm  city-mpg  highway-mpg  \n",
       "0    3.15                9.5       114.0    5400.0      23.0         28.0  \n",
       "1    3.15                9.5       114.0    5400.0      23.0         28.0  \n",
       "2    3.15                9.5       114.0    5400.0      23.0         28.0  \n",
       "3    3.15                8.7       160.0    5300.0      19.0         25.0  \n",
       "4    3.40               23.0       106.0    4800.0      26.0         27.0  "
      ]
     },
     "execution_count": 4,
     "metadata": {},
     "output_type": "execute_result"
    }
   ],
   "source": [
    "#Replace all ? values with NaN values\n",
    "car_features.replace('?', np.nan, inplace=True)\n",
    "test_car_features.replace('?', np.nan, inplace=True)\n",
    "#Make sure all values are type float\n",
    "car_features = car_features.astype(float)\n",
    "test_car_features = test_car_features.astype(float)\n",
    "car_features.shape[0]\n",
    "#test_car_features.shape[0]\n",
    "test_car_features.head(5)\n"
   ]
  },
  {
   "cell_type": "code",
   "execution_count": 5,
   "metadata": {},
   "outputs": [
    {
     "data": {
      "text/plain": [
       "normalized-losses    33\n",
       "wheel-base            0\n",
       "length                0\n",
       "width                 0\n",
       "height                0\n",
       "curb-weight           0\n",
       "bore                  4\n",
       "stroke                4\n",
       "compression-ratio     0\n",
       "horsepower            2\n",
       "peak-rpm              2\n",
       "city-mpg              0\n",
       "highway-mpg           0\n",
       "price                 0\n",
       "dtype: int64"
      ]
     },
     "execution_count": 5,
     "metadata": {},
     "output_type": "execute_result"
    }
   ],
   "source": [
    "car_features = car_features.dropna(subset=['price'])\n",
    "test_car_features.isnull().sum()\n",
    "car_features.isnull().sum()\n",
    "#Lets detemine how many rows have missing values and in which columns these missing values exist. \n",
    "#If it is a significant quantity, I might need to drop the column, otherwise I will just replace missing values with the average."
   ]
  },
  {
   "cell_type": "code",
   "execution_count": 6,
   "metadata": {},
   "outputs": [
    {
     "data": {
      "text/plain": [
       "normalized-losses    0\n",
       "wheel-base           0\n",
       "length               0\n",
       "width                0\n",
       "height               0\n",
       "curb-weight          0\n",
       "bore                 0\n",
       "stroke               0\n",
       "compression-ratio    0\n",
       "horsepower           0\n",
       "peak-rpm             0\n",
       "city-mpg             0\n",
       "highway-mpg          0\n",
       "price                0\n",
       "dtype: int64"
      ]
     },
     "execution_count": 6,
     "metadata": {},
     "output_type": "execute_result"
    }
   ],
   "source": [
    "car_features = car_features.fillna(car_features.mean())\n",
    "\n",
    "test_car_features = test_car_features.fillna(test_car_features.mean())\n",
    "test_car_features.isnull().sum()\n",
    "car_features.isnull().sum()\n",
    "#With those rows disposed off, I will replace any remaining null values with the mean value of their respective column."
   ]
  },
  {
   "cell_type": "code",
   "execution_count": 7,
   "metadata": {},
   "outputs": [
    {
     "data": {
      "text/html": [
       "<div>\n",
       "<style>\n",
       "    .dataframe thead tr:only-child th {\n",
       "        text-align: right;\n",
       "    }\n",
       "\n",
       "    .dataframe thead th {\n",
       "        text-align: left;\n",
       "    }\n",
       "\n",
       "    .dataframe tbody tr th {\n",
       "        vertical-align: top;\n",
       "    }\n",
       "</style>\n",
       "<table border=\"1\" class=\"dataframe\">\n",
       "  <thead>\n",
       "    <tr style=\"text-align: right;\">\n",
       "      <th></th>\n",
       "      <th>normalized-losses</th>\n",
       "      <th>wheel-base</th>\n",
       "      <th>length</th>\n",
       "      <th>width</th>\n",
       "      <th>height</th>\n",
       "      <th>curb-weight</th>\n",
       "      <th>bore</th>\n",
       "      <th>stroke</th>\n",
       "      <th>compression-ratio</th>\n",
       "      <th>horsepower</th>\n",
       "      <th>peak-rpm</th>\n",
       "      <th>city-mpg</th>\n",
       "      <th>highway-mpg</th>\n",
       "    </tr>\n",
       "  </thead>\n",
       "  <tbody>\n",
       "    <tr>\n",
       "      <th>0</th>\n",
       "      <td>103.0</td>\n",
       "      <td>104.3</td>\n",
       "      <td>188.8</td>\n",
       "      <td>67.2</td>\n",
       "      <td>56.2</td>\n",
       "      <td>2912.0</td>\n",
       "      <td>3.78</td>\n",
       "      <td>3.15</td>\n",
       "      <td>9.5</td>\n",
       "      <td>114.0</td>\n",
       "      <td>5400.0</td>\n",
       "      <td>23.0</td>\n",
       "      <td>28.0</td>\n",
       "    </tr>\n",
       "    <tr>\n",
       "      <th>1</th>\n",
       "      <td>74.0</td>\n",
       "      <td>104.3</td>\n",
       "      <td>188.8</td>\n",
       "      <td>67.2</td>\n",
       "      <td>57.5</td>\n",
       "      <td>3034.0</td>\n",
       "      <td>3.78</td>\n",
       "      <td>3.15</td>\n",
       "      <td>9.5</td>\n",
       "      <td>114.0</td>\n",
       "      <td>5400.0</td>\n",
       "      <td>23.0</td>\n",
       "      <td>28.0</td>\n",
       "    </tr>\n",
       "    <tr>\n",
       "      <th>2</th>\n",
       "      <td>95.0</td>\n",
       "      <td>109.1</td>\n",
       "      <td>188.8</td>\n",
       "      <td>68.9</td>\n",
       "      <td>55.5</td>\n",
       "      <td>2952.0</td>\n",
       "      <td>3.78</td>\n",
       "      <td>3.15</td>\n",
       "      <td>9.5</td>\n",
       "      <td>114.0</td>\n",
       "      <td>5400.0</td>\n",
       "      <td>23.0</td>\n",
       "      <td>28.0</td>\n",
       "    </tr>\n",
       "    <tr>\n",
       "      <th>3</th>\n",
       "      <td>95.0</td>\n",
       "      <td>109.1</td>\n",
       "      <td>188.8</td>\n",
       "      <td>68.8</td>\n",
       "      <td>55.5</td>\n",
       "      <td>3049.0</td>\n",
       "      <td>3.78</td>\n",
       "      <td>3.15</td>\n",
       "      <td>8.7</td>\n",
       "      <td>160.0</td>\n",
       "      <td>5300.0</td>\n",
       "      <td>19.0</td>\n",
       "      <td>25.0</td>\n",
       "    </tr>\n",
       "    <tr>\n",
       "      <th>4</th>\n",
       "      <td>95.0</td>\n",
       "      <td>109.1</td>\n",
       "      <td>188.8</td>\n",
       "      <td>68.9</td>\n",
       "      <td>55.5</td>\n",
       "      <td>3217.0</td>\n",
       "      <td>3.01</td>\n",
       "      <td>3.40</td>\n",
       "      <td>23.0</td>\n",
       "      <td>106.0</td>\n",
       "      <td>4800.0</td>\n",
       "      <td>26.0</td>\n",
       "      <td>27.0</td>\n",
       "    </tr>\n",
       "  </tbody>\n",
       "</table>\n",
       "</div>"
      ],
      "text/plain": [
       "   normalized-losses  wheel-base  length  width  height  curb-weight  bore  \\\n",
       "0              103.0       104.3   188.8   67.2    56.2       2912.0  3.78   \n",
       "1               74.0       104.3   188.8   67.2    57.5       3034.0  3.78   \n",
       "2               95.0       109.1   188.8   68.9    55.5       2952.0  3.78   \n",
       "3               95.0       109.1   188.8   68.8    55.5       3049.0  3.78   \n",
       "4               95.0       109.1   188.8   68.9    55.5       3217.0  3.01   \n",
       "\n",
       "   stroke  compression-ratio  horsepower  peak-rpm  city-mpg  highway-mpg  \n",
       "0    3.15                9.5       114.0    5400.0      23.0         28.0  \n",
       "1    3.15                9.5       114.0    5400.0      23.0         28.0  \n",
       "2    3.15                9.5       114.0    5400.0      23.0         28.0  \n",
       "3    3.15                8.7       160.0    5300.0      19.0         25.0  \n",
       "4    3.40               23.0       106.0    4800.0      26.0         27.0  "
      ]
     },
     "execution_count": 7,
     "metadata": {},
     "output_type": "execute_result"
    }
   ],
   "source": [
    "test_car_features.head(5)\n",
    "#Fantastic! No more missing data! Now it is time to normalise the data so that they all scale between 0 and 1. The only column I don't want to normalise it the price, as this is the label I will be using for my predictions."
   ]
  },
  {
   "cell_type": "code",
   "execution_count": 8,
   "metadata": {},
   "outputs": [
    {
     "data": {
      "text/html": [
       "<div>\n",
       "<style>\n",
       "    .dataframe thead tr:only-child th {\n",
       "        text-align: right;\n",
       "    }\n",
       "\n",
       "    .dataframe thead th {\n",
       "        text-align: left;\n",
       "    }\n",
       "\n",
       "    .dataframe tbody tr th {\n",
       "        vertical-align: top;\n",
       "    }\n",
       "</style>\n",
       "<table border=\"1\" class=\"dataframe\">\n",
       "  <thead>\n",
       "    <tr style=\"text-align: right;\">\n",
       "      <th></th>\n",
       "      <th>normalized-losses</th>\n",
       "      <th>wheel-base</th>\n",
       "      <th>length</th>\n",
       "      <th>width</th>\n",
       "      <th>height</th>\n",
       "      <th>curb-weight</th>\n",
       "      <th>bore</th>\n",
       "      <th>stroke</th>\n",
       "      <th>compression-ratio</th>\n",
       "      <th>horsepower</th>\n",
       "      <th>peak-rpm</th>\n",
       "      <th>city-mpg</th>\n",
       "      <th>highway-mpg</th>\n",
       "      <th>price</th>\n",
       "    </tr>\n",
       "  </thead>\n",
       "  <tbody>\n",
       "    <tr>\n",
       "      <th>0</th>\n",
       "      <td>0.520759</td>\n",
       "      <td>0.224168</td>\n",
       "      <td>0.154309</td>\n",
       "      <td>0.109722</td>\n",
       "      <td>0.183946</td>\n",
       "      <td>0.373340</td>\n",
       "      <td>0.086842</td>\n",
       "      <td>0.357314</td>\n",
       "      <td>0.608696</td>\n",
       "      <td>0.576336</td>\n",
       "      <td>0.242424</td>\n",
       "      <td>0.571429</td>\n",
       "      <td>0.500000</td>\n",
       "      <td>13495.0</td>\n",
       "    </tr>\n",
       "    <tr>\n",
       "      <th>1</th>\n",
       "      <td>0.520759</td>\n",
       "      <td>0.224168</td>\n",
       "      <td>0.154309</td>\n",
       "      <td>0.109722</td>\n",
       "      <td>0.183946</td>\n",
       "      <td>0.373340</td>\n",
       "      <td>0.086842</td>\n",
       "      <td>0.357314</td>\n",
       "      <td>0.608696</td>\n",
       "      <td>0.576336</td>\n",
       "      <td>0.242424</td>\n",
       "      <td>0.571429</td>\n",
       "      <td>0.500000</td>\n",
       "      <td>16500.0</td>\n",
       "    </tr>\n",
       "    <tr>\n",
       "      <th>2</th>\n",
       "      <td>0.520759</td>\n",
       "      <td>0.172504</td>\n",
       "      <td>0.142285</td>\n",
       "      <td>0.090278</td>\n",
       "      <td>0.123746</td>\n",
       "      <td>0.305706</td>\n",
       "      <td>0.294737</td>\n",
       "      <td>0.167866</td>\n",
       "      <td>0.608696</td>\n",
       "      <td>0.412214</td>\n",
       "      <td>0.242424</td>\n",
       "      <td>0.612245</td>\n",
       "      <td>0.518519</td>\n",
       "      <td>16500.0</td>\n",
       "    </tr>\n",
       "    <tr>\n",
       "      <th>3</th>\n",
       "      <td>0.359375</td>\n",
       "      <td>0.126095</td>\n",
       "      <td>0.115230</td>\n",
       "      <td>0.080556</td>\n",
       "      <td>0.091973</td>\n",
       "      <td>0.425234</td>\n",
       "      <td>0.160526</td>\n",
       "      <td>0.184652</td>\n",
       "      <td>0.565217</td>\n",
       "      <td>0.610687</td>\n",
       "      <td>0.166667</td>\n",
       "      <td>0.510204</td>\n",
       "      <td>0.444444</td>\n",
       "      <td>13950.0</td>\n",
       "    </tr>\n",
       "    <tr>\n",
       "      <th>4</th>\n",
       "      <td>0.359375</td>\n",
       "      <td>0.129597</td>\n",
       "      <td>0.115230</td>\n",
       "      <td>0.077778</td>\n",
       "      <td>0.091973</td>\n",
       "      <td>0.305460</td>\n",
       "      <td>0.160526</td>\n",
       "      <td>0.184652</td>\n",
       "      <td>0.652174</td>\n",
       "      <td>0.561069</td>\n",
       "      <td>0.166667</td>\n",
       "      <td>0.632653</td>\n",
       "      <td>0.592593</td>\n",
       "      <td>17450.0</td>\n",
       "    </tr>\n",
       "  </tbody>\n",
       "</table>\n",
       "</div>"
      ],
      "text/plain": [
       "   normalized-losses  wheel-base    length     width    height  curb-weight  \\\n",
       "0           0.520759    0.224168  0.154309  0.109722  0.183946     0.373340   \n",
       "1           0.520759    0.224168  0.154309  0.109722  0.183946     0.373340   \n",
       "2           0.520759    0.172504  0.142285  0.090278  0.123746     0.305706   \n",
       "3           0.359375    0.126095  0.115230  0.080556  0.091973     0.425234   \n",
       "4           0.359375    0.129597  0.115230  0.077778  0.091973     0.305460   \n",
       "\n",
       "       bore    stroke  compression-ratio  horsepower  peak-rpm  city-mpg  \\\n",
       "0  0.086842  0.357314           0.608696    0.576336  0.242424  0.571429   \n",
       "1  0.086842  0.357314           0.608696    0.576336  0.242424  0.571429   \n",
       "2  0.294737  0.167866           0.608696    0.412214  0.242424  0.612245   \n",
       "3  0.160526  0.184652           0.565217    0.610687  0.166667  0.510204   \n",
       "4  0.160526  0.184652           0.652174    0.561069  0.166667  0.632653   \n",
       "\n",
       "   highway-mpg    price  \n",
       "0     0.500000  13495.0  \n",
       "1     0.500000  16500.0  \n",
       "2     0.518519  16500.0  \n",
       "3     0.444444  13950.0  \n",
       "4     0.592593  17450.0  "
      ]
     },
     "execution_count": 8,
     "metadata": {},
     "output_type": "execute_result"
    }
   ],
   "source": [
    "car_price = car_features['price']\n",
    "features_labels = (car_features.max() - car_features)/(car_features.max())\n",
    "test_features_labels = (test_car_features.max() - test_car_features)/(test_car_features.max())\n",
    "features_labels['price'] = car_price\n",
    "features_labels.head(5)"
   ]
  },
  {
   "cell_type": "code",
   "execution_count": 9,
   "metadata": {
    "collapsed": true
   },
   "outputs": [],
   "source": [
    "#Univariant K-nearest Neighbours Model\n",
    "def knn_train_test(df, feature_columns, label_columns,k_range):\n",
    "    \"\"\"Instantiate a K-nearest neighbours model and fit\n",
    "    with data provided\n",
    "    Keyword Arguments:\n",
    "    df -- Pandas dataframe\n",
    "    feature_columns -- columns containing feature elements\n",
    "    label_columns -- columns containing labels\n",
    "    k_range -- k values for knn parameters\"\"\"\n",
    "    rmse_values = {}\n",
    "    #Randomise the dataset\n",
    "    np.random.seed(1)\n",
    "    df = df.reindex(np.random.permutation(df.index))\n",
    "    #Split the data evenly into test set and train set\n",
    "    split_idx = int(df.shape[0]/2)\n",
    "    train = df.iloc[0:split_idx]\n",
    "    test = df.iloc[split_idx:]\n",
    "    for k in k_range:\n",
    "        #Instantiate the KNeighborsRegressor class\n",
    "        knn = KNeighborsRegressor(n_neighbors=k)\n",
    "        #Fit the model with our data\n",
    "        knn.fit(train[feature_columns], train[label_columns])\n",
    "        #Make predictions using the test features\n",
    "        predictions = knn.predict(test[feature_columns])\n",
    "        #Calculate the mean squared error of our prediction\n",
    "        mse = mean_squared_error(test[label_columns], predictions)\n",
    "        #Return the RMSE by taking the square root of the MSE\n",
    "        rmse_values[k] = (np.sqrt(mse))\n",
    "    return rmse_values"
   ]
  },
  {
   "cell_type": "code",
   "execution_count": 10,
   "metadata": {
    "collapsed": true
   },
   "outputs": [],
   "source": [
    "def knn_test_test(df, feature_columns, label_columns,k_range):\n",
    "    \"\"\"Instantiate a K-nearest neighbours model and fit\n",
    "    with data provided\n",
    "    Keyword Arguments:\n",
    "    df -- Pandas dataframe\n",
    "    feature_columns -- columns containing feature elements\n",
    "    label_columns -- columns containing labels\n",
    "    k_range -- k values for knn parameters\"\"\"\n",
    "    rmse_values = {}\n",
    "    #Randomise the dataset\n",
    "    np.random.seed(1)\n",
    "    df = df.reindex(np.random.permutation(df.index))\n",
    "    #Split the data evenly into test set and train set\n",
    "    split_idx = int(df.shape[0]/2)\n",
    "    train = df.iloc[0:split_idx]\n",
    "    test = df.iloc[split_idx:]\n",
    "    for k in k_range:\n",
    "        #Instantiate the KNeighborsRegressor class\n",
    "        knn = KNeighborsRegressor(n_neighbors=k)\n",
    "        #Fit the model with our data\n",
    "        knn.fit(train[feature_columns], train[label_columns])\n",
    "        #Make predictions using the test features\n",
    "        predictions = knn.predict(test[feature_columns])\n",
    "        #Calculate the mean squared error of our prediction\n",
    "        mse = mean_squared_error(test[label_columns], predictions)\n",
    "        #Return the RMSE by taking the square root of the MSE\n",
    "        rmse_values[k] = (np.sqrt(mse))\n",
    "    return rmse_values"
   ]
  },
  {
   "cell_type": "code",
   "execution_count": 11,
   "metadata": {},
   "outputs": [
    {
     "data": {
      "text/plain": [
       "{'bore': {1: 9481.1992136404151,\n",
       "  3: 5757.9835410057376,\n",
       "  5: 5361.1053113215812,\n",
       "  7: 5710.3612409573943,\n",
       "  9: 5909.4782205677238},\n",
       " 'city-mpg': {1: 7188.6602231985971,\n",
       "  3: 5021.4753941545523,\n",
       "  5: 4986.9912712747055,\n",
       "  7: 5123.9541282373475,\n",
       "  9: 5231.1129692560971},\n",
       " 'compression-ratio': {1: 6759.8884512662789,\n",
       "  3: 5906.2722861384973,\n",
       "  5: 6096.9618366987443,\n",
       "  7: 6482.9951960628923,\n",
       "  9: 6483.8064172559589},\n",
       " 'curb-weight': {1: 4806.8379622577559,\n",
       "  3: 4001.5052878044467,\n",
       "  5: 3816.4736356948702,\n",
       "  7: 3838.0740826730175,\n",
       "  9: 3990.2458885600909},\n",
       " 'height': {1: 11794.151313549295,\n",
       "  3: 7558.1100147385678,\n",
       "  5: 7114.9779592715213,\n",
       "  7: 7238.7268355763945,\n",
       "  9: 7130.6231584572452},\n",
       " 'highway-mpg': {1: 7018.9964366005697,\n",
       "  3: 4321.8811984170925,\n",
       "  5: 4145.1398783436107,\n",
       "  7: 4341.0221853984467,\n",
       "  9: 4471.6696534958555},\n",
       " 'horsepower': {1: 3953.7516215687438,\n",
       "  3: 4486.1206635486587,\n",
       "  5: 4780.2902159770083,\n",
       "  7: 4737.8036056415249,\n",
       "  9: 4813.8075693365599},\n",
       " 'length': {1: 5365.131544916012,\n",
       "  3: 5398.3302129568374,\n",
       "  5: 4809.5615288475219,\n",
       "  7: 4774.4742561571129,\n",
       "  9: 5059.96180980388},\n",
       " 'normalized-losses': {1: 7424.5106506960346,\n",
       "  3: 6661.9848571030798,\n",
       "  5: 7199.2696343480548,\n",
       "  7: 7383.7227612603147,\n",
       "  9: 7275.8210825018132},\n",
       " 'peak-rpm': {1: 11711.98954750727,\n",
       "  3: 7721.3591244836225,\n",
       "  5: 7388.4870411811071,\n",
       "  7: 7249.6618819616688,\n",
       "  9: 7065.3966933979536},\n",
       " 'stroke': {1: 5662.7211707333136,\n",
       "  3: 6481.9691248595273,\n",
       "  5: 7252.7588964238412,\n",
       "  7: 7249.979675770488,\n",
       "  9: 7024.6924940537674},\n",
       " 'wheel-base': {1: 4995.6951629297337,\n",
       "  3: 4825.035126758894,\n",
       "  5: 5383.3717171543594,\n",
       "  7: 5395.0842324693904,\n",
       "  9: 5514.3882534426484},\n",
       " 'width': {1: 5684.4122503724084,\n",
       "  3: 4323.3454259144301,\n",
       "  5: 4530.7641248405916,\n",
       "  7: 4728.1689348689342,\n",
       "  9: 4795.5718897860797}}"
      ]
     },
     "execution_count": 11,
     "metadata": {},
     "output_type": "execute_result"
    }
   ],
   "source": [
    "feature_columns = features_labels.columns.drop('price')\n",
    "column_rmse_values = {}\n",
    "for col in feature_columns:\n",
    "    column_rmse_values[col] = knn_train_test(features_labels,\n",
    "                                            [col], 'price', \n",
    "                                            [1,3,5,7,9])\n",
    "column_rmse_values"
   ]
  },
  {
   "cell_type": "code",
   "execution_count": 12,
   "metadata": {},
   "outputs": [
    {
     "data": {
      "text/plain": [
       "<function matplotlib.pyplot.show>"
      ]
     },
     "execution_count": 12,
     "metadata": {},
     "output_type": "execute_result"
    },
    {
     "data": {
      "image/png": "[encoded data removed]",
      "text/plain": [
       "<matplotlib.figure.Figure at 0x24a025c4390>"
      ]
     },
     "metadata": {},
     "output_type": "display_data"
    }
   ],
   "source": [
    "\n",
    "fig = plt.figure(figsize=(10,8))\n",
    "for k,v in column_rmse_values.items():\n",
    "    ax = plt.subplot(111)\n",
    "    sorted_rmse = sorted(column_rmse_values[k].items())\n",
    "    x, y = zip(*sorted_rmse)\n",
    "    ax.plot(x,y, label = k)\n",
    "ax.set_xlabel('k value')\n",
    "ax.set_ylabel('RMSE')\n",
    "ax.legend(loc='upper center', bbox_to_anchor=(0.5, 1.05),\n",
    "          ncol=3, fancybox=True, shadow=True)\n",
    "plt.show"
   ]
  },
  {
   "cell_type": "code",
   "execution_count": 13,
   "metadata": {
    "collapsed": true
   },
   "outputs": [],
   "source": [
    "#The plot above shows that an optimum k value exists above 3, and the safest bet would be around a value of 5. \n",
    "#The columns with the lowest error are 'Horsepower', 'width', 'curb-weight', 'highway-mpg', and 'length'. \n",
    "#This is possibly suggesting how well known measures of performance, miles per gallon and horsepower, have a powerful influence over price. The other attribute is the size of the vehicle.\n",
    "four_best_features = ['horsepower', 'width', 'curb-weight', 'highway-mpg']"
   ]
  },
  {
   "cell_type": "code",
   "execution_count": 14,
   "metadata": {},
   "outputs": [],
   "source": [
    "k = 5\n",
    "rmse_results = {}"
   ]
  },
  {
   "cell_type": "code",
   "execution_count": 15,
   "metadata": {},
   "outputs": [
    {
     "data": {
      "text/plain": [
       "{2: 3998.7089176727859,\n",
       " 3: 3741.5570500903045,\n",
       " 4: 3604.4686841076373,\n",
       " 5: 3766.3635492113058,\n",
       " 6: 3779.3328546460289}"
      ]
     },
     "execution_count": 15,
     "metadata": {},
     "output_type": "execute_result"
    }
   ],
   "source": [
    "#I will now increase the number of features and then plot the results to find the optimum number of features to use\n",
    "two_best_features = ['horsepower', 'highway-mpg']\n",
    "three_best_features = ['horsepower', 'width', 'highway-mpg']\n",
    "four_best_features = ['horsepower', 'width', 'curb-weight', 'city-mpg']\n",
    "five_best_features = ['horsepower', 'width', 'curb-weight' , 'city-mpg' , 'highway-mpg']\n",
    "six_best_features = ['horsepower', 'width', 'curb-weight' , 'city-mpg' , 'highway-mpg', 'length']\n",
    "rmse = knn_train_test(features_labels, two_best_features, 'price',[k])\n",
    "rmse_results[2] = rmse[5]\n",
    "rmse = knn_train_test(features_labels, three_best_features, 'price',[k])\n",
    "rmse_results[3] = rmse[5]\n",
    "rmse = knn_train_test(features_labels, four_best_features, 'price',[k])\n",
    "rmse_results[4] = rmse[5]\n",
    "rmse = knn_train_test(features_labels, five_best_features, 'price',[k])\n",
    "rmse_results[5] = rmse[5]\n",
    "rmse = knn_train_test(features_labels, six_best_features, 'price',[k])\n",
    "rmse_results[6] = rmse[5]\n",
    "rmse_results\n"
   ]
  },
  {
   "cell_type": "code",
   "execution_count": 16,
   "metadata": {},
   "outputs": [
    {
     "data": {
      "image/png": "[encoded data removed]",
      "text/plain": [
       "<matplotlib.figure.Figure at 0x24a02aeaf60>"
      ]
     },
     "metadata": {},
     "output_type": "display_data"
    }
   ],
   "source": [
    "y = [v for k,v in rmse_results.items()]\n",
    "x = np.arange(2,7,1)\n",
    "plt.plot(x,y)\n",
    "plt.xticks(x)\n",
    "plt.xlabel('Number of Features')\n",
    "plt.ylabel('RMSE')\n",
    "plt.show()"
   ]
  },
  {
   "cell_type": "code",
   "execution_count": 17,
   "metadata": {
    "collapsed": true
   },
   "outputs": [],
   "source": [
    "#From the graph above it is clear that the optimum number of features is 4. \n",
    "#I will now vary the k value between 1 and 25 for both these features and then plot the results to find the optimum model\n",
    "k = np.arange(1,26,1)\n",
    "rmse_values_three = knn_train_test(features_labels, three_best_features, 'price',k)\n",
    "rmse_values_four = knn_train_test(features_labels, four_best_features, 'price',k)"
   ]
  },
  {
   "cell_type": "code",
   "execution_count": 18,
   "metadata": {},
   "outputs": [
    {
     "data": {
      "text/plain": [
       "<function matplotlib.pyplot.show>"
      ]
     },
     "execution_count": 18,
     "metadata": {},
     "output_type": "execute_result"
    },
    {
     "data": {
      "image/png": "[encoded data removed]",
      "text/plain": [
       "<matplotlib.figure.Figure at 0x24a026e06a0>"
      ]
     },
     "metadata": {},
     "output_type": "display_data"
    }
   ],
   "source": [
    "fig = plt.figure(figsize=(10,8))\n",
    "ax = plt.subplot(111)\n",
    "y = [v for k,v in rmse_values_three.items()]\n",
    "x = k\n",
    "ax.plot(x,y, label = 'Three Features')\n",
    "y = [v for k,v in rmse_values_four.items()]\n",
    "x = k\n",
    "ax.plot(x,y, label = 'Four Features')\n",
    "ax.set_xticks(np.arange(min(k), max(k)+1, 1.0))\n",
    "ax.set_xlabel('k value')\n",
    "ax.set_ylabel('RMSE')\n",
    "ax.legend(loc='upper center', bbox_to_anchor=(0.5, 1.05),\n",
    "          ncol=3, fancybox=True, shadow=True)\n",
    "plt.show"
   ]
  },
  {
   "cell_type": "code",
   "execution_count": 19,
   "metadata": {},
   "outputs": [
    {
     "data": {
      "text/plain": [
       "2479.32892133938"
      ]
     },
     "execution_count": 19,
     "metadata": {},
     "output_type": "execute_result"
    }
   ],
   "source": [
    "#K-Fold Cross Validation\n",
    "kf = KFold(n_splits=5,shuffle=True,random_state=1)\n",
    "knn = KNeighborsRegressor(n_neighbors=1)\n",
    "mses = cross_val_score(knn,features_labels[four_best_features],features_labels['price'],scoring='neg_mean_squared_error',cv=kf)\n",
    "avg_rmses = np.mean([(np.abs(mse)**(1/2)) for mse in mses])\n",
    "\n",
    "avg_rmses"
   ]
  },
  {
   "cell_type": "code",
   "execution_count": 20,
   "metadata": {
    "scrolled": false
   },
   "outputs": [
    {
     "data": {
      "image/png": "[encoded data removed]",
      "text/plain": [
       "<matplotlib.figure.Figure at 0x24a0261a7f0>"
      ]
     },
     "metadata": {},
     "output_type": "display_data"
    }
   ],
   "source": [
    "#Interestingly the RMSE was higher than observed when using test/train validation. This might demonstrate that some bias was being made towards the fixed training set I was using. \n",
    "#Lets use cross validation to see what the optimum k value is when using the four feature model:\n",
    "k_vals = np.arange(1,26,1)\n",
    "avg_rmses= {}\n",
    "for k in k_vals:\n",
    "    knn = KNeighborsRegressor(n_neighbors=k)\n",
    "    mses = cross_val_score(knn,features_labels[four_best_features],features_labels['price'],scoring='neg_mean_squared_error',cv=kf)\n",
    "    avg_rmses[k] = np.mean([(np.abs(mse)**(1/2)) for mse in mses])\n",
    "    \n",
    "fig = plt.figure(figsize=(10,8))\n",
    "ax = plt.subplot(111)\n",
    "y = [v for k,v in avg_rmses.items()]\n",
    "x = k_vals\n",
    "ax.set_xlabel('k value')\n",
    "ax.set_ylabel('RMSE')\n",
    "ax.plot(x,y)\n",
    "plt.show()"
   ]
  },
  {
   "cell_type": "code",
   "execution_count": 21,
   "metadata": {},
   "outputs": [],
   "source": [
    "#Lets predict the test data \n",
    "knn = KNeighborsRegressor(n_neighbors=1)\n",
    "#Fit the model with our data\n",
    "knn.fit(features_labels[four_best_features],features_labels['price'])\n",
    "#Make predictions using the test features\n",
    "predictions = knn.predict(test_features_labels[four_best_features])"
   ]
  },
  {
   "cell_type": "code",
   "execution_count": 22,
   "metadata": {
    "collapsed": true
   },
   "outputs": [],
   "source": [
    "test_features_labels['price'] = predictions"
   ]
  },
  {
   "cell_type": "code",
   "execution_count": 47,
   "metadata": {},
   "outputs": [],
   "source": [
    "#Save the predictions to the CSV\n",
    "test_features_labels.to_csv('out.csv')"
   ]
  }
 ],
 "metadata": {
  "kernelspec": {
   "display_name": "Python 3",
   "language": "python",
   "name": "python3"
  },
  "language_info": {
   "codemirror_mode": {
    "name": "ipython",
    "version": 3
   },
   "file_extension": ".py",
   "mimetype": "text/x-python",
   "name": "python",
   "nbconvert_exporter": "python",
   "pygments_lexer": "ipython3",
   "version": "3.6.2"
  }
 },
 "nbformat": 4,
 "nbformat_minor": 2
}
